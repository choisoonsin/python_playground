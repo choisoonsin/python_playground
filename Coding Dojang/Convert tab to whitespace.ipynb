{
 "cells": [
  {
   "cell_type": "markdown",
   "id": "372ebd8b",
   "metadata": {},
   "source": [
    "#### 소스코드내에 사용된 탭(Tab) 문자를 공백 4개(4 space)로 바꾸어 주는 프로그램을 작성하시오."
   ]
  },
  {
   "cell_type": "code",
   "execution_count": 7,
   "id": "47ee24dc",
   "metadata": {},
   "outputs": [],
   "source": [
    "import re"
   ]
  },
  {
   "cell_type": "code",
   "execution_count": 117,
   "id": "6536727d",
   "metadata": {},
   "outputs": [
    {
     "name": "stdout",
     "output_type": "stream",
     "text": [
      "10\n",
      "0\n",
      "45\n"
     ]
    }
   ],
   "source": [
    "write_f = open('./sample/content_with_whitespace', 'w')\n",
    "read_f = open('./sample/content_with_tab.txt', 'r')\n",
    "\n",
    "content = read_f.read()\n",
    "print(len(re.findall(\"\\t\", content)))\n",
    "\n",
    "for line in content.splitlines():\n",
    "    write_f.write(line.replace(\"\\t\", \" \"*4))    \n",
    "    write_f.write(\"\\n\")\n",
    "\n",
    "read_f.close()    \n",
    "write_f.close()\n",
    "\n",
    "with open('./sample/content_with_whitespace', 'r') as r:\n",
    "    content_with_whitespace = r.read()\n",
    "    print(len(re.findall(\"\\t\", content_with_whitespace, re.M)))\n",
    "    print(len(re.findall(\"\\s\", content_with_whitespace, re.M)))\n",
    "    "
   ]
  },
  {
   "cell_type": "code",
   "execution_count": 129,
   "id": "fe6d75f1",
   "metadata": {},
   "outputs": [],
   "source": [
    "write_f = open('./sample/content_with_whitespace', 'w')\n",
    "read_f = open('./sample/content_with_tab.txt', 'r')\n",
    "\n",
    "write_f.write(re.sub(\"\\t\", ' '*4, read_f.read()))\n",
    "\n",
    "read_f.close()\n",
    "write_f.close()"
   ]
  },
  {
   "cell_type": "code",
   "execution_count": 140,
   "id": "7bf6732d",
   "metadata": {},
   "outputs": [
    {
     "data": {
      "text/plain": [
       "' '"
      ]
     },
     "execution_count": 140,
     "metadata": {},
     "output_type": "execute_result"
    }
   ],
   "source": [
    "str(\" \")"
   ]
  },
  {
   "cell_type": "code",
   "execution_count": null,
   "id": "385b6c85",
   "metadata": {},
   "outputs": [],
   "source": []
  }
 ],
 "metadata": {
  "kernelspec": {
   "display_name": "Python 3 (ipykernel)",
   "language": "python",
   "name": "python3"
  },
  "language_info": {
   "codemirror_mode": {
    "name": "ipython",
    "version": 3
   },
   "file_extension": ".py",
   "mimetype": "text/x-python",
   "name": "python",
   "nbconvert_exporter": "python",
   "pygments_lexer": "ipython3",
   "version": "3.10.4"
  }
 },
 "nbformat": 4,
 "nbformat_minor": 5
}
