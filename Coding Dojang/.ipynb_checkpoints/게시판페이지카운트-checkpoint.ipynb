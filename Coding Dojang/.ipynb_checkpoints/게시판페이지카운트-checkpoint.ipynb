{
 "cells": [
  {
   "cell_type": "markdown",
   "id": "4faf1f44",
   "metadata": {},
   "source": [
    "#### 게시판 문제\n",
    "\n",
    "A씨는 게시판 프로그램을 작성하고 있다.\n",
    "\n",
    "A씨는 게시물의 총 건수와 한 페이지에 보여줄 게시물수를 입력으로 주었을 때 총 페이지수를 리턴하는 프로그램이 필요하다고 한다.\n",
    "\n",
    "입력 : 총건수(m), 한페이지에 보여줄 게시물수(n) (단 n은 1보다 크거나 같다. n >= 1)\n",
    "출력 : 총페이지수\n",
    "\n",
    "A씨가 필요한 프로그램을 작성하시오.\n"
   ]
  },
  {
   "attachments": {},
   "cell_type": "markdown",
   "id": "6639e175",
   "metadata": {},
   "source": [
    "<img src=\"./img/20220831_102316.png\" align=\"left\">"
   ]
  },
  {
   "cell_type": "code",
   "execution_count": 41,
   "id": "ea033cbb",
   "metadata": {},
   "outputs": [],
   "source": [
    "import math"
   ]
  },
  {
   "cell_type": "code",
   "execution_count": 64,
   "id": "fba7e39c",
   "metadata": {},
   "outputs": [],
   "source": [
    "def get_count_pages(m, n):\n",
    "    if n < 1:\n",
    "        return 0\n",
    "    return math.ceil(m / n)"
   ]
  },
  {
   "cell_type": "code",
   "execution_count": 55,
   "id": "9d333426",
   "metadata": {},
   "outputs": [
    {
     "data": {
      "text/plain": [
       "6"
      ]
     },
     "execution_count": 55,
     "metadata": {},
     "output_type": "execute_result"
    }
   ],
   "source": [
    "get_count_pages(51, 10)"
   ]
  },
  {
   "cell_type": "markdown",
   "id": "179e69f1",
   "metadata": {},
   "source": [
    "위 함수는 아래와 같이 람다로 표현할 수 있다."
   ]
  },
  {
   "cell_type": "code",
   "execution_count": 72,
   "id": "740c77c7",
   "metadata": {},
   "outputs": [],
   "source": [
    "get_count = lambda m, n: 0 if n < 1 else math.ceil(m / n)"
   ]
  },
  {
   "cell_type": "code",
   "execution_count": 73,
   "id": "947a0d13",
   "metadata": {},
   "outputs": [
    {
     "data": {
      "text/plain": [
       "6"
      ]
     },
     "execution_count": 73,
     "metadata": {},
     "output_type": "execute_result"
    }
   ],
   "source": [
    "get_count(51, 10)"
   ]
  },
  {
   "cell_type": "code",
   "execution_count": 65,
   "id": "67440f48",
   "metadata": {},
   "outputs": [
    {
     "ename": "ZeroDivisionError",
     "evalue": "division by zero",
     "output_type": "error",
     "traceback": [
      "\u001b[1;31m---------------------------------------------------------------------------\u001b[0m",
      "\u001b[1;31mZeroDivisionError\u001b[0m                         Traceback (most recent call last)",
      "Input \u001b[1;32mIn [65]\u001b[0m, in \u001b[0;36m<cell line: 1>\u001b[1;34m()\u001b[0m\n\u001b[1;32m----> 1\u001b[0m math\u001b[38;5;241m.\u001b[39mceil(\u001b[38;5;241;43m2\u001b[39;49m\u001b[38;5;241;43m/\u001b[39;49m\u001b[38;5;241;43m0\u001b[39;49m)\n",
      "\u001b[1;31mZeroDivisionError\u001b[0m: division by zero"
     ]
    }
   ],
   "source": [
    "math.ceil(2/0)"
   ]
  }
 ],
 "metadata": {
  "kernelspec": {
   "display_name": "Python 3 (ipykernel)",
   "language": "python",
   "name": "python3"
  },
  "language_info": {
   "codemirror_mode": {
    "name": "ipython",
    "version": 3
   },
   "file_extension": ".py",
   "mimetype": "text/x-python",
   "name": "python",
   "nbconvert_exporter": "python",
   "pygments_lexer": "ipython3",
   "version": "3.10.4"
  }
 },
 "nbformat": 4,
 "nbformat_minor": 5
}
