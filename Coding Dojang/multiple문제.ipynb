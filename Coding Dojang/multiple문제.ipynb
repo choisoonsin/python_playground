{
 "cells": [
  {
   "cell_type": "markdown",
   "id": "64e5a80b",
   "metadata": {},
   "source": [
    "```\n",
    "10미만의 자연수에서 3과 5의 배수를 구하면 3,5,6,9이다. 이들의 총합은 23이다.\n",
    "\n",
    "1000미만의 자연수에서 3,5의 배수의 총합을 구하라.\n",
    "```\n",
    "\n",
    "https://codingdojang.com/scode/350?langby=python#answer-filter-area"
   ]
  },
  {
   "cell_type": "markdown",
   "id": "3acb42d5",
   "metadata": {},
   "source": [
    "배수는 몫을 활용하여 구할 수 있다."
   ]
  },
  {
   "cell_type": "code",
   "execution_count": 82,
   "id": "db3a1e15",
   "metadata": {},
   "outputs": [
    {
     "data": {
      "text/plain": [
       "233168"
      ]
     },
     "execution_count": 82,
     "metadata": {},
     "output_type": "execute_result"
    }
   ],
   "source": [
    "sum([x for x in range(1000) if x%3==0 or x%5==0])"
   ]
  },
  {
   "cell_type": "markdown",
   "id": "c41c8cb5",
   "metadata": {},
   "source": [
    "set을 사용하여 구할 수 있다."
   ]
  },
  {
   "cell_type": "code",
   "execution_count": 92,
   "id": "3ae52842",
   "metadata": {},
   "outputs": [
    {
     "name": "stdout",
     "output_type": "stream",
     "text": [
      "3\n",
      "6\n",
      "9\n",
      "12\n",
      "15\n",
      "18\n"
     ]
    }
   ],
   "source": [
    "for x in range(3, 20, 3):\n",
    "    print(x)"
   ]
  },
  {
   "cell_type": "code",
   "execution_count": 91,
   "id": "52eacb7d",
   "metadata": {},
   "outputs": [
    {
     "name": "stdout",
     "output_type": "stream",
     "text": [
      "5\n",
      "10\n",
      "15\n"
     ]
    }
   ],
   "source": [
    "for x in range(5, 20, 5):\n",
    "    print(x)"
   ]
  },
  {
   "cell_type": "markdown",
   "id": "523b0ca6",
   "metadata": {},
   "source": [
    "As you can see above, there are duplicated numbers so we have to make it clear using set"
   ]
  },
  {
   "cell_type": "code",
   "execution_count": 96,
   "id": "1a564c8e",
   "metadata": {},
   "outputs": [],
   "source": [
    "x = set(range(3, 20, 3))"
   ]
  },
  {
   "cell_type": "code",
   "execution_count": 97,
   "id": "b88527d7",
   "metadata": {},
   "outputs": [],
   "source": [
    "y = set(range(5, 20, 5))"
   ]
  },
  {
   "cell_type": "code",
   "execution_count": 98,
   "id": "23037b46",
   "metadata": {},
   "outputs": [
    {
     "data": {
      "text/plain": [
       "({3, 6, 9, 12, 15, 18}, {5, 10, 15})"
      ]
     },
     "execution_count": 98,
     "metadata": {},
     "output_type": "execute_result"
    }
   ],
   "source": [
    "x, y"
   ]
  },
  {
   "cell_type": "code",
   "execution_count": 99,
   "id": "39f21445",
   "metadata": {},
   "outputs": [
    {
     "data": {
      "text/plain": [
       "{3, 5, 6, 9, 10, 12, 15, 18}"
      ]
     },
     "execution_count": 99,
     "metadata": {},
     "output_type": "execute_result"
    }
   ],
   "source": [
    "x | y"
   ]
  },
  {
   "cell_type": "code",
   "execution_count": 100,
   "id": "357472e9",
   "metadata": {},
   "outputs": [
    {
     "data": {
      "text/plain": [
       "78"
      ]
     },
     "execution_count": 100,
     "metadata": {},
     "output_type": "execute_result"
    }
   ],
   "source": [
    "sum(x|y)"
   ]
  },
  {
   "cell_type": "code",
   "execution_count": 103,
   "id": "af3c410d",
   "metadata": {},
   "outputs": [
    {
     "data": {
      "text/plain": [
       "233168"
      ]
     },
     "execution_count": 103,
     "metadata": {},
     "output_type": "execute_result"
    }
   ],
   "source": [
    "x = set(range(3, 1000, 3))\n",
    "y = set(range(5, 1000, 5))\n",
    "\n",
    "sum(x|y)"
   ]
  }
 ],
 "metadata": {
  "kernelspec": {
   "display_name": "Python 3 (ipykernel)",
   "language": "python",
   "name": "python3"
  },
  "language_info": {
   "codemirror_mode": {
    "name": "ipython",
    "version": 3
   },
   "file_extension": ".py",
   "mimetype": "text/x-python",
   "name": "python",
   "nbconvert_exporter": "python",
   "pygments_lexer": "ipython3",
   "version": "3.10.4"
  }
 },
 "nbformat": 4,
 "nbformat_minor": 5
}
