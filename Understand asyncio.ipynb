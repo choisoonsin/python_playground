{
 "cells": [
  {
   "cell_type": "markdown",
   "id": "92cfa06b",
   "metadata": {},
   "source": [
    "# coroutine \n",
    "코루틴은 여러 다른 지점에서 진입, 탈출, 재개할 수 있다. `async def` 문으로 구현할 수 있다.\n",
    "\n",
    "코루틴의 이해를 위한 링크\n",
    "\n",
    "https://dojang.io/mod/page/view.php?id=2418#:~:text=%EC%BD%94%EB%A3%A8%ED%8B%B4(coroutine)%EC%9D%80%20cooperative,%EC%9D%98%20%EC%BD%94%EB%93%9C%EB%A5%BC%20%EC%8B%A4%ED%96%89%ED%95%A9%EB%8B%88%EB%8B%A4.\n",
    "<img src=\"https://dojang.io/pluginfile.php/13976/mod_page/content/3/041002.png\">\n",
    "\n",
    "일반 함수를 호출하면 코드를 한 번만 실행할 수 있지만, 코루틴은 코드를 여러 번 실행할 수 있습니다. 참고로 함수의 코드를 실행하는 지점을 진입점(entry point)이라고 하는데, 코루틴은 진입점이 여러 개인 함수입니다"
   ]
  },
  {
   "cell_type": "code",
   "execution_count": 5,
   "id": "c9feddb3",
   "metadata": {},
   "outputs": [],
   "source": [
    "import asyncio\n",
    "import time"
   ]
  },
  {
   "cell_type": "code",
   "execution_count": 6,
   "id": "82c63419",
   "metadata": {},
   "outputs": [],
   "source": [
    "async def main():\n",
    "    print('hello')\n",
    "    await asyncio.sleep(1)\n",
    "    print('world')"
   ]
  },
  {
   "cell_type": "code",
   "execution_count": 13,
   "id": "3d3f3603",
   "metadata": {},
   "outputs": [
    {
     "name": "stdout",
     "output_type": "stream",
     "text": [
      "hello\n",
      "world\n"
     ]
    }
   ],
   "source": [
    "await main()"
   ]
  },
  {
   "cell_type": "code",
   "execution_count": 14,
   "id": "dfef4ccb",
   "metadata": {},
   "outputs": [],
   "source": [
    "async def say_after(delay, what):\n",
    "    await asyncio.sleep(delay)\n",
    "    print(what)\n",
    "\n",
    "async def main():\n",
    "    print(f\"started at {time.strftime('%X')}\")\n",
    "\n",
    "    await say_after(1, 'hello')\n",
    "    await say_after(2, 'world')\n",
    "\n",
    "    print(f\"finished at {time.strftime('%X')}\")"
   ]
  },
  {
   "cell_type": "code",
   "execution_count": 17,
   "id": "050b3f5d",
   "metadata": {},
   "outputs": [
    {
     "name": "stdout",
     "output_type": "stream",
     "text": [
      "started at 13:16:07\n",
      "hello\n",
      "world\n",
      "finished at 13:16:10\n"
     ]
    }
   ],
   "source": [
    "await main()"
   ]
  },
  {
   "cell_type": "code",
   "execution_count": 25,
   "id": "eefc9239",
   "metadata": {},
   "outputs": [
    {
     "data": {
      "text/plain": [
       "'20220830 13:17:05'"
      ]
     },
     "execution_count": 25,
     "metadata": {},
     "output_type": "execute_result"
    }
   ],
   "source": [
    "time.strftime('%Y%m%d %X')"
   ]
  },
  {
   "cell_type": "markdown",
   "id": "3074cd52",
   "metadata": {},
   "source": [
    "### Task 동시 실행 \n",
    "위의 예를 수정해서 두 개의 `say_after` 코루틴을 *동시에* 실행해 본다."
   ]
  },
  {
   "cell_type": "code",
   "execution_count": 29,
   "id": "44fe06fa",
   "metadata": {},
   "outputs": [],
   "source": [
    "async def main():\n",
    "    task1 = asyncio.create_task(say_after(2, 'hello'))\n",
    "    task2 = asyncio.create_task(say_after(2, 'world'))\n",
    "    \n",
    "    print(f\"started at {time.strftime('%X')}\")\n",
    "    await task1\n",
    "    await task2\n",
    "    print(f\"finished at {time.strftime('%X')}\")"
   ]
  },
  {
   "cell_type": "code",
   "execution_count": 31,
   "id": "9f168ae8",
   "metadata": {},
   "outputs": [
    {
     "name": "stdout",
     "output_type": "stream",
     "text": [
      "started at 13:56:21\n",
      "hello\n",
      "world\n",
      "finished at 13:56:23\n"
     ]
    }
   ],
   "source": [
    "await main()"
   ]
  },
  {
   "cell_type": "code",
   "execution_count": 34,
   "id": "4d84b607",
   "metadata": {},
   "outputs": [],
   "source": [
    "#!pip list"
   ]
  },
  {
   "cell_type": "code",
   "execution_count": 35,
   "id": "84a08ed4",
   "metadata": {},
   "outputs": [],
   "source": [
    "import requests"
   ]
  },
  {
   "cell_type": "code",
   "execution_count": 124,
   "id": "4b8bdb1c",
   "metadata": {},
   "outputs": [],
   "source": [
    "def get_http(url):\n",
    "    time.sleep(3)\n",
    "    print(\"url\", url)\n",
    "    return requests.get(url)"
   ]
  },
  {
   "cell_type": "code",
   "execution_count": 104,
   "id": "c916a2ba",
   "metadata": {},
   "outputs": [],
   "source": [
    "r = get_http('https://www.python.org/')"
   ]
  },
  {
   "cell_type": "code",
   "execution_count": 105,
   "id": "1948ec80",
   "metadata": {},
   "outputs": [],
   "source": [
    "async def do_something():\n",
    "    return get_http('https://www.python.org/')"
   ]
  },
  {
   "cell_type": "code",
   "execution_count": 106,
   "id": "8326f6f8",
   "metadata": {},
   "outputs": [],
   "source": [
    "result = await do_something()"
   ]
  },
  {
   "cell_type": "code",
   "execution_count": 107,
   "id": "4acf8e70",
   "metadata": {},
   "outputs": [
    {
     "data": {
      "text/plain": [
       "200"
      ]
     },
     "execution_count": 107,
     "metadata": {},
     "output_type": "execute_result"
    }
   ],
   "source": [
    "result.status_code"
   ]
  },
  {
   "cell_type": "markdown",
   "id": "3243536e",
   "metadata": {},
   "source": [
    "스레드를 사용하여 비동기 실행하는 방법"
   ]
  },
  {
   "cell_type": "code",
   "execution_count": 148,
   "id": "522d9bd3",
   "metadata": {},
   "outputs": [],
   "source": [
    "async def do_something_asynchronously():\n",
    "    print(f\"started at {time.strftime('%X')}\")\n",
    "    r = await asyncio.gather(\n",
    "            asyncio.to_thread(get_http, url='https://docs.python.org/'),\n",
    "            asyncio.to_thread(get_http, url='https://www.naver.com/'))\n",
    "    print(f\"finished at {time.strftime('%X')}\")\n",
    "    \n",
    "    return r"
   ]
  },
  {
   "cell_type": "code",
   "execution_count": 149,
   "id": "bd2289e3",
   "metadata": {},
   "outputs": [
    {
     "name": "stdout",
     "output_type": "stream",
     "text": [
      "started at 16:44:36\n",
      "url https://docs.python.org/\n",
      "url https://www.naver.com/\n",
      "finished at 16:44:39\n"
     ]
    }
   ],
   "source": [
    "http_data = await do_something_asynchronously()"
   ]
  },
  {
   "cell_type": "markdown",
   "id": "28e9e743",
   "metadata": {},
   "source": [
    "데코레이터를 사용해서 함수 수행시간을 프린트 해보자."
   ]
  },
  {
   "cell_type": "code",
   "execution_count": 157,
   "id": "59efb8e0",
   "metadata": {},
   "outputs": [],
   "source": [
    "def timecheck_decorator(func):\n",
    "    def wrapper():\n",
    "        print(f\"{func.__name__} started at {time.strftime('%X')}\")\n",
    "        func()\n",
    "        print(f\"{func.__name__} has been finished at {time.strftime('%X')}\")\n",
    "    return wrapper()"
   ]
  },
  {
   "cell_type": "code",
   "execution_count": 164,
   "id": "737f28f7",
   "metadata": {},
   "outputs": [
    {
     "name": "stdout",
     "output_type": "stream",
     "text": [
      "do_something_fun started at 17:24:51\n",
      "do_something!!\n",
      "do_something_fun has been finished at 17:24:51\n"
     ]
    }
   ],
   "source": [
    "@timecheck_decorator\n",
    "def do_something_fun():\n",
    "#     time.sleep(3)\n",
    "    print('do_something!!')"
   ]
  },
  {
   "cell_type": "code",
   "execution_count": 165,
   "id": "3dee38fa",
   "metadata": {},
   "outputs": [
    {
     "ename": "TypeError",
     "evalue": "'NoneType' object is not callable",
     "output_type": "error",
     "traceback": [
      "\u001b[1;31m---------------------------------------------------------------------------\u001b[0m",
      "\u001b[1;31mTypeError\u001b[0m                                 Traceback (most recent call last)",
      "Input \u001b[1;32mIn [165]\u001b[0m, in \u001b[0;36m<cell line: 1>\u001b[1;34m()\u001b[0m\n\u001b[1;32m----> 1\u001b[0m \u001b[43mdo_something_fun\u001b[49m\u001b[43m(\u001b[49m\u001b[43m)\u001b[49m\n",
      "\u001b[1;31mTypeError\u001b[0m: 'NoneType' object is not callable"
     ]
    }
   ],
   "source": [
    "do_something_fun()"
   ]
  }
 ],
 "metadata": {
  "kernelspec": {
   "display_name": "Python 3 (ipykernel)",
   "language": "python",
   "name": "python3"
  },
  "language_info": {
   "codemirror_mode": {
    "name": "ipython",
    "version": 3
   },
   "file_extension": ".py",
   "mimetype": "text/x-python",
   "name": "python",
   "nbconvert_exporter": "python",
   "pygments_lexer": "ipython3",
   "version": "3.10.4"
  }
 },
 "nbformat": 4,
 "nbformat_minor": 5
}
